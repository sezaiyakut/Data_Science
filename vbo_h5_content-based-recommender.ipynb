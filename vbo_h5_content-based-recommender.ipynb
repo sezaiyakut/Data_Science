{
 "cells": [
  {
   "cell_type": "code",
   "execution_count": 1,
   "id": "550ada62",
   "metadata": {
    "_cell_guid": "b1076dfc-b9ad-4769-8c92-a6c4dae69d19",
    "_uuid": "8f2839f25d086af736a60e9eeb907d3b93b6e0e5",
    "execution": {
     "iopub.execute_input": "2022-04-11T23:42:20.146456Z",
     "iopub.status.busy": "2022-04-11T23:42:20.145207Z",
     "iopub.status.idle": "2022-04-11T23:42:22.451451Z",
     "shell.execute_reply": "2022-04-11T23:42:22.450159Z",
     "shell.execute_reply.started": "2022-04-11T23:15:30.568054Z"
    },
    "papermill": {
     "duration": 2.337887,
     "end_time": "2022-04-11T23:42:22.451673",
     "exception": false,
     "start_time": "2022-04-11T23:42:20.113786",
     "status": "completed"
    },
    "tags": []
   },
   "outputs": [],
   "source": [
    "import pandas as pd\n",
    "import numpy as np\n",
    "pd.set_option('display.max_columns', None)\n",
    "pd.set_option('display.width', 500)\n",
    "pd.set_option('display.expand_frame_repr', False)\n",
    "from sklearn.feature_extraction.text import TfidfVectorizer\n",
    "from sklearn.metrics.pairwise import cosine_similarity\n",
    "# https://www.kaggle.com/rounakbanik/the-movies-dataset 900mb. diğer tablolarla işimiz yok. indirmek istersen link\n",
    "df = pd.read_csv(\"../input/movies-metadata/movies_metadata.csv\",\n",
    "                 low_memory=False)  # DtypeWarning kapamak icin\n",
    "\n"
   ]
  },
  {
   "cell_type": "code",
   "execution_count": 2,
   "id": "338cb75c",
   "metadata": {
    "execution": {
     "iopub.execute_input": "2022-04-11T23:42:22.514535Z",
     "iopub.status.busy": "2022-04-11T23:42:22.513764Z",
     "iopub.status.idle": "2022-04-11T23:42:22.515845Z",
     "shell.execute_reply": "2022-04-11T23:42:22.516376Z",
     "shell.execute_reply.started": "2022-04-11T23:14:52.540872Z"
    },
    "papermill": {
     "duration": 0.034594,
     "end_time": "2022-04-11T23:42:22.516553",
     "exception": false,
     "start_time": "2022-04-11T23:42:22.481959",
     "status": "completed"
    },
    "tags": []
   },
   "outputs": [],
   "source": [
    "tfidf = TfidfVectorizer(stop_words=\"english\")       # kullanacağımız metodu atama yöntemi ile hazırladık. \n",
    "#stopwords on, and, in gibi kelimelerin hesaba katılmamasını sağlar."
   ]
  },
  {
   "cell_type": "code",
   "execution_count": 3,
   "id": "ee731a97",
   "metadata": {
    "execution": {
     "iopub.execute_input": "2022-04-11T23:42:22.573923Z",
     "iopub.status.busy": "2022-04-11T23:42:22.572863Z",
     "iopub.status.idle": "2022-04-11T23:42:22.598084Z",
     "shell.execute_reply": "2022-04-11T23:42:22.598585Z",
     "shell.execute_reply.started": "2022-04-11T23:40:48.110948Z"
    },
    "papermill": {
     "duration": 0.05584,
     "end_time": "2022-04-11T23:42:22.598784",
     "exception": false,
     "start_time": "2022-04-11T23:42:22.542944",
     "status": "completed"
    },
    "tags": []
   },
   "outputs": [
    {
     "data": {
      "text/plain": [
       "(954, 24)"
      ]
     },
     "execution_count": 3,
     "metadata": {},
     "output_type": "execute_result"
    }
   ],
   "source": [
    "df[df['overview'].isnull()].shape  #kaç tane boş değer olduğunu görmek için bir yöntem"
   ]
  },
  {
   "cell_type": "code",
   "execution_count": 4,
   "id": "cc144e50",
   "metadata": {
    "execution": {
     "iopub.execute_input": "2022-04-11T23:42:22.678238Z",
     "iopub.status.busy": "2022-04-11T23:42:22.677460Z",
     "iopub.status.idle": "2022-04-11T23:42:22.748775Z",
     "shell.execute_reply": "2022-04-11T23:42:22.748007Z",
     "shell.execute_reply.started": "2022-04-11T23:14:52.586692Z"
    },
    "papermill": {
     "duration": 0.116278,
     "end_time": "2022-04-11T23:42:22.748931",
     "exception": false,
     "start_time": "2022-04-11T23:42:22.632653",
     "status": "completed"
    },
    "tags": []
   },
   "outputs": [],
   "source": [
    "df = df[~df[\"title\"].duplicated(keep='last')]\n",
    "df = df[~df[\"title\"].isna()]\n",
    "df = df[~df[\"overview\"].isna()]"
   ]
  },
  {
   "cell_type": "code",
   "execution_count": 5,
   "id": "8d1037a6",
   "metadata": {
    "execution": {
     "iopub.execute_input": "2022-04-11T23:42:22.818875Z",
     "iopub.status.busy": "2022-04-11T23:42:22.818126Z",
     "iopub.status.idle": "2022-04-11T23:42:22.821169Z",
     "shell.execute_reply": "2022-04-11T23:42:22.821700Z",
     "shell.execute_reply.started": "2022-04-11T23:14:52.674197Z"
    },
    "papermill": {
     "duration": 0.045936,
     "end_time": "2022-04-11T23:42:22.821906",
     "exception": false,
     "start_time": "2022-04-11T23:42:22.775970",
     "status": "completed"
    },
    "tags": []
   },
   "outputs": [],
   "source": [
    "df['overview'] = df['overview'].fillna('') #NaN kelimesinin bizi yanıltmaması için boş değerler \"\" şeklinde tamamen boş bırakılır."
   ]
  },
  {
   "cell_type": "code",
   "execution_count": 6,
   "id": "f69adcf5",
   "metadata": {
    "execution": {
     "iopub.execute_input": "2022-04-11T23:42:22.927429Z",
     "iopub.status.busy": "2022-04-11T23:42:22.890331Z",
     "iopub.status.idle": "2022-04-11T23:42:25.796923Z",
     "shell.execute_reply": "2022-04-11T23:42:25.797468Z",
     "shell.execute_reply.started": "2022-04-11T23:14:52.68973Z"
    },
    "papermill": {
     "duration": 2.948513,
     "end_time": "2022-04-11T23:42:25.797662",
     "exception": false,
     "start_time": "2022-04-11T23:42:22.849149",
     "status": "completed"
    },
    "tags": []
   },
   "outputs": [],
   "source": [
    "#tfidf adlı önceden atadığımız metodu çağırırız. fit ile içindeki bilgilere uygula deriz. \n",
    "#transform da eski değerleri yeni değerlerle kalıcı olarak değiştirir. \n",
    "\n",
    "tfidf_matrix = tfidf.fit_transform(df['overview'])\n"
   ]
  },
  {
   "cell_type": "code",
   "execution_count": 7,
   "id": "74223b04",
   "metadata": {
    "execution": {
     "iopub.execute_input": "2022-04-11T23:42:25.854327Z",
     "iopub.status.busy": "2022-04-11T23:42:25.853671Z",
     "iopub.status.idle": "2022-04-11T23:42:25.908645Z",
     "shell.execute_reply": "2022-04-11T23:42:25.908029Z",
     "shell.execute_reply.started": "2022-04-11T23:15:36.359621Z"
    },
    "papermill": {
     "duration": 0.084306,
     "end_time": "2022-04-11T23:42:25.908833",
     "exception": false,
     "start_time": "2022-04-11T23:42:25.824527",
     "status": "completed"
    },
    "tags": []
   },
   "outputs": [],
   "source": [
    "# Matrisin hafızadaki boyutunu yarıya indirme\n",
    "tfidf_matrix = tfidf_matrix.astype(np.float32)"
   ]
  },
  {
   "cell_type": "code",
   "execution_count": 8,
   "id": "6424fbe7",
   "metadata": {
    "execution": {
     "iopub.execute_input": "2022-04-11T23:42:25.965742Z",
     "iopub.status.busy": "2022-04-11T23:42:25.965013Z",
     "iopub.status.idle": "2022-04-11T23:42:25.969748Z",
     "shell.execute_reply": "2022-04-11T23:42:25.970284Z",
     "shell.execute_reply.started": "2022-04-11T23:14:55.68614Z"
    },
    "papermill": {
     "duration": 0.03528,
     "end_time": "2022-04-11T23:42:25.970454",
     "exception": false,
     "start_time": "2022-04-11T23:42:25.935174",
     "status": "completed"
    },
    "tags": []
   },
   "outputs": [
    {
     "data": {
      "text/plain": [
       "(41344, 73955)"
      ]
     },
     "execution_count": 8,
     "metadata": {},
     "output_type": "execute_result"
    }
   ],
   "source": [
    "tfidf_matrix.shape  #satırdakiler film isimleri, sütundakiler kelimeler"
   ]
  },
  {
   "cell_type": "code",
   "execution_count": 9,
   "id": "836c2483",
   "metadata": {
    "execution": {
     "iopub.execute_input": "2022-04-11T23:42:26.030668Z",
     "iopub.status.busy": "2022-04-11T23:42:26.029987Z",
     "iopub.status.idle": "2022-04-11T23:42:26.033265Z",
     "shell.execute_reply": "2022-04-11T23:42:26.033890Z",
     "shell.execute_reply.started": "2022-04-11T23:14:55.68847Z"
    },
    "papermill": {
     "duration": 0.036894,
     "end_time": "2022-04-11T23:42:26.034073",
     "exception": false,
     "start_time": "2022-04-11T23:42:25.997179",
     "status": "completed"
    },
    "tags": []
   },
   "outputs": [],
   "source": [
    "#tfidf.get_feature_names()  #değişken isimlerini görmeye yarayan bir komut"
   ]
  },
  {
   "cell_type": "code",
   "execution_count": 10,
   "id": "dcc2cc02",
   "metadata": {
    "execution": {
     "iopub.execute_input": "2022-04-11T23:42:26.090747Z",
     "iopub.status.busy": "2022-04-11T23:42:26.090051Z",
     "iopub.status.idle": "2022-04-11T23:42:26.111575Z",
     "shell.execute_reply": "2022-04-11T23:42:26.110476Z",
     "shell.execute_reply.started": "2022-04-11T23:14:55.69083Z"
    },
    "papermill": {
     "duration": 0.051132,
     "end_time": "2022-04-11T23:42:26.111774",
     "exception": false,
     "start_time": "2022-04-11T23:42:26.060642",
     "status": "completed"
    },
    "tags": []
   },
   "outputs": [],
   "source": [
    "del df\n"
   ]
  },
  {
   "cell_type": "code",
   "execution_count": 11,
   "id": "f5f1e4ae",
   "metadata": {
    "execution": {
     "iopub.execute_input": "2022-04-11T23:42:26.171696Z",
     "iopub.status.busy": "2022-04-11T23:42:26.170973Z",
     "iopub.status.idle": "2022-04-11T23:42:30.532936Z",
     "shell.execute_reply": "2022-04-11T23:42:30.533450Z",
     "shell.execute_reply.started": "2022-04-11T23:15:50.257944Z"
    },
    "papermill": {
     "duration": 4.393987,
     "end_time": "2022-04-11T23:42:30.533627",
     "exception": false,
     "start_time": "2022-04-11T23:42:26.139640",
     "status": "completed"
    },
    "tags": []
   },
   "outputs": [
    {
     "data": {
      "text/plain": [
       "array([[0., 0., 0., ..., 0., 0., 0.],\n",
       "       [0., 0., 0., ..., 0., 0., 0.],\n",
       "       [0., 0., 0., ..., 0., 0., 0.],\n",
       "       ...,\n",
       "       [0., 0., 0., ..., 0., 0., 0.],\n",
       "       [0., 0., 0., ..., 0., 0., 0.],\n",
       "       [0., 0., 0., ..., 0., 0., 0.]], dtype=float32)"
      ]
     },
     "execution_count": 11,
     "metadata": {},
     "output_type": "execute_result"
    }
   ],
   "source": [
    "# satırlarda açıklamlar, stunlarda terimler kesişiminde tf-idf skorları var.\n",
    "tfidf_matrix.toarray()"
   ]
  },
  {
   "cell_type": "markdown",
   "id": "2e80cc20",
   "metadata": {
    "papermill": {
     "duration": 0.028485,
     "end_time": "2022-04-11T23:42:30.590303",
     "exception": false,
     "start_time": "2022-04-11T23:42:30.561818",
     "status": "completed"
    },
    "tags": []
   },
   "source": [
    "**COSİNE SİM HESAPLAMA**\n",
    "amacımız filmler arasındaki benzerlik ya da uzaklıkları bulmak\n",
    "tfidf matrix'i oluşturuldukjtan sonra bunun üzerine öklit ya da cosine sim fonksiyonları kurularak, filmler arasındaki uzaklıklar belirlenir."
   ]
  },
  {
   "cell_type": "code",
   "execution_count": 12,
   "id": "f45dfd81",
   "metadata": {
    "execution": {
     "iopub.execute_input": "2022-04-11T23:42:30.654491Z",
     "iopub.status.busy": "2022-04-11T23:42:30.653698Z",
     "iopub.status.idle": "2022-04-11T23:42:51.496422Z",
     "shell.execute_reply": "2022-04-11T23:42:51.496976Z",
     "shell.execute_reply.started": "2022-04-11T23:16:05.509295Z"
    },
    "papermill": {
     "duration": 20.877981,
     "end_time": "2022-04-11T23:42:51.497195",
     "exception": false,
     "start_time": "2022-04-11T23:42:30.619214",
     "status": "completed"
    },
    "tags": []
   },
   "outputs": [],
   "source": [
    "cosine_sim = cosine_similarity(tfidf_matrix,\n",
    "                               tfidf_matrix)"
   ]
  },
  {
   "cell_type": "markdown",
   "id": "5cf8dcc6",
   "metadata": {
    "papermill": {
     "duration": 0.029812,
     "end_time": "2022-04-11T23:42:51.562679",
     "exception": false,
     "start_time": "2022-04-11T23:42:51.532867",
     "status": "completed"
    },
    "tags": []
   },
   "source": [
    "# Filtreleme\n",
    "df = df[~df[\"title\"].duplicated(keep='last')]\n",
    "df = df[~df[\"title\"].isna()]\n",
    "df = df[~df[\"overview\"].isna()]\n",
    "\n",
    "#TFIDF Oluşturma\n",
    "tfidf = TfidfVectorizer(stop_words='english')\n",
    "tfidf_matrix = tfidf.fit_transform(df['overview'])\n",
    "\n",
    "# Matrisin hafızadaki boyutunu yarıya indirme\n",
    "tfidf_matrix = tfidf_matrix.astype(np.float32)\n",
    "\n",
    "# Cosine Similarity hesaplaması\n",
    "cosine_sim = cosine_similarity(tfidf_matrix, tfidf_matrix)"
   ]
  },
  {
   "cell_type": "code",
   "execution_count": 13,
   "id": "17684c81",
   "metadata": {
    "execution": {
     "iopub.execute_input": "2022-04-11T23:42:51.628744Z",
     "iopub.status.busy": "2022-04-11T23:42:51.627802Z",
     "iopub.status.idle": "2022-04-11T23:42:51.631846Z",
     "shell.execute_reply": "2022-04-11T23:42:51.631289Z",
     "shell.execute_reply.started": "2022-04-11T23:16:39.536432Z"
    },
    "papermill": {
     "duration": 0.038626,
     "end_time": "2022-04-11T23:42:51.631989",
     "exception": false,
     "start_time": "2022-04-11T23:42:51.593363",
     "status": "completed"
    },
    "tags": []
   },
   "outputs": [
    {
     "data": {
      "text/plain": [
       "' her satırda da sütunlarda da tüm filmer var. her saturda bir film. \\nher sütunda, satırdaki filmin sütundaki filme ne derecede benzediği gösteriiyor.\\n'"
      ]
     },
     "execution_count": 13,
     "metadata": {},
     "output_type": "execute_result"
    }
   ],
   "source": [
    "\"\"\" her satırda da sütunlarda da tüm filmer var. her saturda bir film. \n",
    "her sütunda, satırdaki filmin sütundaki filme ne derecede benzediği gösteriiyor.\n",
    "\"\"\"\n",
    "#cosine_sim.shape\n",
    "#cosine_sim[1]"
   ]
  },
  {
   "cell_type": "markdown",
   "id": "727cb5b1",
   "metadata": {
    "papermill": {
     "duration": 0.028791,
     "end_time": "2022-04-11T23:42:51.688904",
     "exception": false,
     "start_time": "2022-04-11T23:42:51.660113",
     "status": "completed"
    },
    "tags": []
   },
   "source": [
    "Yukarıda cosine yöntemi ile tm filmlerin birbirine olan uzaklıklarını bulduk ancak film isimleri mevcut olmadığı için anlaşılır değil. Bununla ilgili olarak çözüm üreteceğiz."
   ]
  },
  {
   "cell_type": "code",
   "execution_count": 14,
   "id": "c39f9038",
   "metadata": {
    "execution": {
     "iopub.execute_input": "2022-04-11T23:42:51.749283Z",
     "iopub.status.busy": "2022-04-11T23:42:51.748412Z",
     "iopub.status.idle": "2022-04-11T23:42:51.855950Z",
     "shell.execute_reply": "2022-04-11T23:42:51.855032Z",
     "shell.execute_reply.started": "2022-04-11T23:19:32.690084Z"
    },
    "papermill": {
     "duration": 0.139909,
     "end_time": "2022-04-11T23:42:51.856266",
     "exception": true,
     "start_time": "2022-04-11T23:42:51.716357",
     "status": "failed"
    },
    "tags": []
   },
   "outputs": [
    {
     "ename": "NameError",
     "evalue": "name 'df' is not defined",
     "output_type": "error",
     "traceback": [
      "\u001b[0;31m---------------------------------------------------------------------------\u001b[0m",
      "\u001b[0;31mNameError\u001b[0m                                 Traceback (most recent call last)",
      "\u001b[0;32m/tmp/ipykernel_19/854129941.py\u001b[0m in \u001b[0;36m<module>\u001b[0;34m\u001b[0m\n\u001b[0;32m----> 1\u001b[0;31m \u001b[0mindices\u001b[0m \u001b[0;34m=\u001b[0m \u001b[0mpd\u001b[0m\u001b[0;34m.\u001b[0m\u001b[0mSeries\u001b[0m\u001b[0;34m(\u001b[0m\u001b[0mdf\u001b[0m\u001b[0;34m.\u001b[0m\u001b[0mindex\u001b[0m\u001b[0;34m,\u001b[0m \u001b[0mindex\u001b[0m\u001b[0;34m=\u001b[0m\u001b[0mdf\u001b[0m\u001b[0;34m[\u001b[0m\u001b[0;34m'title'\u001b[0m\u001b[0;34m]\u001b[0m\u001b[0;34m)\u001b[0m\u001b[0;34m\u001b[0m\u001b[0;34m\u001b[0m\u001b[0m\n\u001b[0m\u001b[1;32m      2\u001b[0m \u001b[0;31m#indices adlı yeni bir pandas series oluşturuldu. index'e film isimleri koyuldu. yanında da hangi indexde bulundukları gösteriliyor.\u001b[0m\u001b[0;34m\u001b[0m\u001b[0;34m\u001b[0m\u001b[0;34m\u001b[0m\u001b[0m\n",
      "\u001b[0;31mNameError\u001b[0m: name 'df' is not defined"
     ]
    }
   ],
   "source": [
    "indices = pd.Series(df.index, index=df['title'])\n",
    "#indices adlı yeni bir pandas series oluşturuldu. index'e film isimleri koyuldu. yanında da hangi indexde bulundukları gösteriliyor."
   ]
  },
  {
   "cell_type": "code",
   "execution_count": null,
   "id": "e602f756",
   "metadata": {
    "execution": {
     "iopub.execute_input": "2022-04-11T23:20:09.509689Z",
     "iopub.status.busy": "2022-04-11T23:20:09.509138Z",
     "iopub.status.idle": "2022-04-11T23:20:09.553461Z",
     "shell.execute_reply": "2022-04-11T23:20:09.552493Z",
     "shell.execute_reply.started": "2022-04-11T23:20:09.509645Z"
    },
    "papermill": {
     "duration": null,
     "end_time": null,
     "exception": null,
     "start_time": null,
     "status": "pending"
    },
    "tags": []
   },
   "outputs": [],
   "source": [
    "indices.index.value_counts() # bu kod ile bazı film isimlerinden birden fazla sayıda olduğunu görüyoruz. "
   ]
  },
  {
   "cell_type": "code",
   "execution_count": null,
   "id": "e78c8660",
   "metadata": {
    "execution": {
     "iopub.execute_input": "2022-04-11T23:32:08.108316Z",
     "iopub.status.busy": "2022-04-11T23:32:08.108008Z",
     "iopub.status.idle": "2022-04-11T23:32:08.121877Z",
     "shell.execute_reply": "2022-04-11T23:32:08.120812Z",
     "shell.execute_reply.started": "2022-04-11T23:32:08.108286Z"
    },
    "papermill": {
     "duration": null,
     "end_time": null,
     "exception": null,
     "start_time": null,
     "status": "pending"
    },
    "tags": []
   },
   "outputs": [],
   "source": [
    "#duplicated tekrar eden kodları seçer. indices serisinin indexlerinde tekrar edenleri bul. \n",
    "#sonuncuları hariç hepsini seç der. Bu seçtikelrin hariç hepsini (~) ata.\n",
    "indices = indices[~indices.index.duplicated(keep='last')]"
   ]
  },
  {
   "cell_type": "code",
   "execution_count": null,
   "id": "de6ae137",
   "metadata": {
    "execution": {
     "iopub.execute_input": "2022-04-11T23:32:10.405541Z",
     "iopub.status.busy": "2022-04-11T23:32:10.405223Z",
     "iopub.status.idle": "2022-04-11T23:32:10.417333Z",
     "shell.execute_reply": "2022-04-11T23:32:10.416172Z",
     "shell.execute_reply.started": "2022-04-11T23:32:10.405508Z"
    },
    "papermill": {
     "duration": null,
     "end_time": null,
     "exception": null,
     "start_time": null,
     "status": "pending"
    },
    "tags": []
   },
   "outputs": [],
   "source": [
    "#sherlock filminin indexi bir değere atanır.\n",
    "movie_index = indices[\"Sherlock Holmes\"]"
   ]
  },
  {
   "cell_type": "code",
   "execution_count": null,
   "id": "25289c4e",
   "metadata": {
    "execution": {
     "iopub.execute_input": "2022-04-11T23:32:32.409627Z",
     "iopub.status.busy": "2022-04-11T23:32:32.409298Z",
     "iopub.status.idle": "2022-04-11T23:32:32.417547Z",
     "shell.execute_reply": "2022-04-11T23:32:32.416835Z",
     "shell.execute_reply.started": "2022-04-11T23:32:32.409596Z"
    },
    "papermill": {
     "duration": null,
     "end_time": null,
     "exception": null,
     "start_time": null,
     "status": "pending"
    },
    "tags": []
   },
   "outputs": [],
   "source": [
    "#cosine_sim matrixinde ilgili index'e giderek, filmin diğer filmlerle olan ilişkileri bulunur.\n",
    "cosine_sim[movie_index]"
   ]
  },
  {
   "cell_type": "code",
   "execution_count": null,
   "id": "af46b9f1",
   "metadata": {
    "execution": {
     "iopub.execute_input": "2022-04-11T23:33:06.918634Z",
     "iopub.status.busy": "2022-04-11T23:33:06.917936Z",
     "iopub.status.idle": "2022-04-11T23:33:06.924465Z",
     "shell.execute_reply": "2022-04-11T23:33:06.923485Z",
     "shell.execute_reply.started": "2022-04-11T23:33:06.918596Z"
    },
    "papermill": {
     "duration": null,
     "end_time": null,
     "exception": null,
     "start_time": null,
     "status": "pending"
    },
    "tags": []
   },
   "outputs": [],
   "source": [
    "#yeni bir ps oluşturulur. index'de ikinci filmerin index numaraları, score'da benzerlik skorları.\n",
    "similarity_scores = pd.DataFrame(cosine_sim[movie_index],\n",
    "                                 columns=[\"score\"])"
   ]
  },
  {
   "cell_type": "code",
   "execution_count": null,
   "id": "a7c3a2b8",
   "metadata": {
    "execution": {
     "iopub.execute_input": "2022-04-11T23:36:25.109237Z",
     "iopub.status.busy": "2022-04-11T23:36:25.108876Z",
     "iopub.status.idle": "2022-04-11T23:36:25.127308Z",
     "shell.execute_reply": "2022-04-11T23:36:25.126208Z",
     "shell.execute_reply.started": "2022-04-11T23:36:25.1092Z"
    },
    "papermill": {
     "duration": null,
     "end_time": null,
     "exception": null,
     "start_time": null,
     "status": "pending"
    },
    "tags": []
   },
   "outputs": [],
   "source": [
    "similarity_scores.head()"
   ]
  },
  {
   "cell_type": "code",
   "execution_count": null,
   "id": "e30ed757",
   "metadata": {
    "execution": {
     "iopub.execute_input": "2022-04-11T23:33:26.039518Z",
     "iopub.status.busy": "2022-04-11T23:33:26.038626Z",
     "iopub.status.idle": "2022-04-11T23:33:26.048824Z",
     "shell.execute_reply": "2022-04-11T23:33:26.04818Z",
     "shell.execute_reply.started": "2022-04-11T23:33:26.039477Z"
    },
    "papermill": {
     "duration": null,
     "end_time": null,
     "exception": null,
     "start_time": null,
     "status": "pending"
    },
    "tags": []
   },
   "outputs": [],
   "source": [
    "#oluşturulan serinin score'a göre değerleri azalacak şekilde sıralanır. \n",
    "ilk film kendisi olduu için ikinci sıradan itibaren ilk 10 film seçilir.bunların indexleri allınır\n",
    "movie_indices = similarity_scores.sort_values(\"score\", ascending=False)[1:11].index"
   ]
  },
  {
   "cell_type": "code",
   "execution_count": null,
   "id": "45043a66",
   "metadata": {
    "papermill": {
     "duration": null,
     "end_time": null,
     "exception": null,
     "start_time": null,
     "status": "pending"
    },
    "tags": []
   },
   "outputs": [],
   "source": [
    "#DF'in title sütunundaki seçil indexler gösterilir. filmimize benzeyen ilk 10 film listeleniş olur."
   ]
  },
  {
   "cell_type": "code",
   "execution_count": null,
   "id": "bbb641aa",
   "metadata": {
    "execution": {
     "iopub.execute_input": "2022-04-11T23:33:43.128179Z",
     "iopub.status.busy": "2022-04-11T23:33:43.127674Z",
     "iopub.status.idle": "2022-04-11T23:33:43.135235Z",
     "shell.execute_reply": "2022-04-11T23:33:43.134717Z",
     "shell.execute_reply.started": "2022-04-11T23:33:43.128142Z"
    },
    "papermill": {
     "duration": null,
     "end_time": null,
     "exception": null,
     "start_time": null,
     "status": "pending"
    },
    "tags": []
   },
   "outputs": [],
   "source": [
    "df['title'].iloc[movie_indices]"
   ]
  },
  {
   "cell_type": "code",
   "execution_count": null,
   "id": "f74e7417",
   "metadata": {
    "papermill": {
     "duration": null,
     "end_time": null,
     "exception": null,
     "start_time": null,
     "status": "pending"
    },
    "tags": []
   },
   "outputs": [],
   "source": [
    "\"\"\"\n",
    "#################################\n",
    "# 4. Çalışma Scriptinin Hazırlanması\n",
    "#################################\n",
    "\n",
    "def content_based_recommender(title, cosine_sim, dataframe):\n",
    "    # index'leri olusturma\n",
    "    indices = pd.Series(dataframe.index, index=dataframe['title'])\n",
    "    indices = indices[~indices.index.duplicated(keep='last')]\n",
    "    # title'ın index'ini yakalama\n",
    "    movie_index = indices[title]\n",
    "    # title'a gore benzerlik skorlarını hesapalama\n",
    "    similarity_scores = pd.DataFrame(cosine_sim[movie_index], columns=[\"score\"])\n",
    "    # kendisi haric ilk 10 filmi getirme\n",
    "    movie_indices = similarity_scores.sort_values(\"score\", ascending=False)[1:11].index\n",
    "    return dataframe['title'].iloc[movie_indices]\n",
    "\n",
    "content_based_recommender(\"Sherlock Holmes\", cosine_sim, df)\n",
    "\n",
    "content_based_recommender(\"The Matrix\", cosine_sim, df)\n",
    "\n",
    "content_based_recommender(\"The Godfather\", cosine_sim, df)\n",
    "\n",
    "content_based_recommender('The Dark Knight Rises', cosine_sim, df)\n",
    "\n",
    "\n",
    "def calculate_cosine_sim(dataframe):\n",
    "    tfidf = TfidfVectorizer(stop_words='english')\n",
    "    dataframe['overview'] = dataframe['overview'].fillna('')\n",
    "    tfidf_matrix = tfidf.fit_transform(dataframe['overview'])\n",
    "    cosine_sim = cosine_similarity(tfidf_matrix, tfidf_matrix)\n",
    "    return cosine_sim\n",
    "\n",
    "\n",
    "cosine_sim = calculate_cosine_sim(df)\n",
    "content_based_recommender('The Dark Knight Rises', cosine_sim, df)\n",
    "# 1 [90, 12, 23, 45, 67]\n",
    "# 2 [90, 12, 23, 45, 67]\n",
    "# 3\n",
    "\"\"\""
   ]
  }
 ],
 "metadata": {
  "kernelspec": {
   "display_name": "Python 3",
   "language": "python",
   "name": "python3"
  },
  "language_info": {
   "codemirror_mode": {
    "name": "ipython",
    "version": 3
   },
   "file_extension": ".py",
   "mimetype": "text/x-python",
   "name": "python",
   "nbconvert_exporter": "python",
   "pygments_lexer": "ipython3",
   "version": "3.7.12"
  },
  "papermill": {
   "default_parameters": {},
   "duration": 44.520442,
   "end_time": "2022-04-11T23:42:53.099783",
   "environment_variables": {},
   "exception": true,
   "input_path": "__notebook__.ipynb",
   "output_path": "__notebook__.ipynb",
   "parameters": {},
   "start_time": "2022-04-11T23:42:08.579341",
   "version": "2.3.3"
  }
 },
 "nbformat": 4,
 "nbformat_minor": 5
}
